{
 "cells": [
  {
   "cell_type": "code",
   "execution_count": 1,
   "id": "initial_id",
   "metadata": {
    "collapsed": true,
    "ExecuteTime": {
     "end_time": "2024-04-05T19:25:06.189305Z",
     "start_time": "2024-04-05T19:25:05.137247Z"
    }
   },
   "outputs": [],
   "source": [
    "import torch\n",
    "from src.fuxi import FuXi"
   ]
  },
  {
   "cell_type": "code",
   "outputs": [
    {
     "name": "stdout",
     "output_type": "stream",
     "text": [
      "torch.Size([1, 25, 121, 240])\n"
     ]
    }
   ],
   "source": [
    "x = torch.randn(1, 2, 25, 121, 240)\n",
    "\n",
    "model = FuXi(25, 4, 2, 121, 240, heads=1)\n",
    "\n",
    "x = model(x)\n",
    "print(x.shape)"
   ],
   "metadata": {
    "collapsed": false,
    "ExecuteTime": {
     "end_time": "2024-04-05T19:26:21.679012Z",
     "start_time": "2024-04-05T19:25:06.190124Z"
    }
   },
   "id": "678d0e911e41ab97",
   "execution_count": 2
  },
  {
   "cell_type": "code",
   "outputs": [],
   "source": [],
   "metadata": {
    "collapsed": false,
    "ExecuteTime": {
     "end_time": "2024-04-05T19:26:21.683464Z",
     "start_time": "2024-04-05T19:26:21.681299Z"
    }
   },
   "id": "b25b95d4fe3d6f6d",
   "execution_count": 2
  }
 ],
 "metadata": {
  "kernelspec": {
   "display_name": "Python 3",
   "language": "python",
   "name": "python3"
  },
  "language_info": {
   "codemirror_mode": {
    "name": "ipython",
    "version": 2
   },
   "file_extension": ".py",
   "mimetype": "text/x-python",
   "name": "python",
   "nbconvert_exporter": "python",
   "pygments_lexer": "ipython2",
   "version": "2.7.6"
  }
 },
 "nbformat": 4,
 "nbformat_minor": 5
}
