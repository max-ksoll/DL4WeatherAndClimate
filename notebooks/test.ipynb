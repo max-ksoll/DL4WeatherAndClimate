{
 "cells": [
  {
   "cell_type": "code",
   "execution_count": 21,
   "id": "initial_id",
   "metadata": {
    "collapsed": true,
    "ExecuteTime": {
     "end_time": "2024-04-05T13:27:36.229956Z",
     "start_time": "2024-04-05T13:27:36.226674Z"
    }
   },
   "outputs": [],
   "source": [
    "import torch.nn as nn\n",
    "import torch\n",
    "\n",
    "\n",
    "class DownBlock(nn.Module):\n",
    "    def __init__(self, in_channels, out_channels):\n",
    "        super(DownBlock, self).__init__()\n",
    "        self.conv1 = nn.Conv2d(in_channels, out_channels, kernel_size=3, stride=2, padding=1)\n",
    "\n",
    "        self.residual_block = nn.Sequential(\n",
    "            nn.Conv2d(out_channels, out_channels, kernel_size=3, stride=1, padding=1),\n",
    "            nn.GroupNorm(2, out_channels),\n",
    "            nn.SiLU(),\n",
    "            nn.Conv2d(out_channels, out_channels, kernel_size=3, stride=1, padding=1),\n",
    "            nn.GroupNorm(2, out_channels),\n",
    "            nn.SiLU()\n",
    "        )\n",
    "\n",
    "    def forward(self, x):\n",
    "        out = self.conv1(x)\n",
    "        residual = self.residual_block(out)\n",
    "        out = out + residual\n",
    "        return out\n",
    "\n",
    "\n",
    "class UpBlock(nn.Module):\n",
    "    def __init__(self, in_channels, out_channels):\n",
    "        super(UpBlock, self).__init__()\n",
    "        # Scale the data size back up\n",
    "        self.upsample = nn.ConvTranspose2d(\n",
    "            in_channels*2,\n",
    "            in_channels*2,\n",
    "            kernel_size=2, stride=2)\n",
    "\n",
    "        # Adjusting channels after concatenation\n",
    "        self.adjust_channels = nn.Conv2d(in_channels*2, out_channels, kernel_size=1)\n",
    "\n",
    "        # Residual block similar to DownBlock but with adjusted channels due to skip connection\n",
    "        self.residual_block = nn.Sequential(\n",
    "            nn.Conv2d(out_channels, out_channels, kernel_size=3, stride=1, padding=1),\n",
    "            nn.GroupNorm(2, out_channels),\n",
    "            nn.SiLU(),\n",
    "            nn.Conv2d(out_channels, out_channels, kernel_size=3, stride=1, padding=1),\n",
    "            nn.GroupNorm(2, out_channels),\n",
    "            nn.SiLU()\n",
    "        )\n",
    "\n",
    "    def forward(self, x, skip_connection):\n",
    "        x = torch.cat([x, skip_connection], dim=1)\n",
    "        print(x.shape)\n",
    "        x = self.upsample(x)\n",
    "        print(x.shape)\n",
    "        x = self.adjust_channels(x)\n",
    "        print(x.shape)\n",
    "        residual = self.residual_block(x)\n",
    "        x = x + residual\n",
    "        return x"
   ]
  },
  {
   "cell_type": "code",
   "outputs": [
    {
     "name": "stdout",
     "output_type": "stream",
     "text": [
      "torch.Size([1, 128, 90, 180])\n",
      "torch.Size([1, 128, 180, 360])\n",
      "torch.Size([1, 70, 180, 360])\n"
     ]
    },
    {
     "data": {
      "text/plain": "torch.Size([1, 70, 180, 360])"
     },
     "execution_count": 22,
     "metadata": {},
     "output_type": "execute_result"
    }
   ],
   "source": [
    "x = torch.randn(1, 128, 180, 360)\n",
    "model = DownBlock(128, 64)\n",
    "x = model(x)\n",
    "# print(x.shape)\n",
    "up = UpBlock(64, 70)\n",
    "up(x, x).shape"
   ],
   "metadata": {
    "collapsed": false,
    "ExecuteTime": {
     "end_time": "2024-04-05T13:27:36.476076Z",
     "start_time": "2024-04-05T13:27:36.231854Z"
    }
   },
   "id": "678d0e911e41ab97",
   "execution_count": 22
  },
  {
   "cell_type": "code",
   "outputs": [],
   "source": [],
   "metadata": {
    "collapsed": false,
    "ExecuteTime": {
     "end_time": "2024-04-05T13:27:36.478494Z",
     "start_time": "2024-04-05T13:27:36.475289Z"
    }
   },
   "id": "b25b95d4fe3d6f6d",
   "execution_count": 22
  }
 ],
 "metadata": {
  "kernelspec": {
   "display_name": "Python 3",
   "language": "python",
   "name": "python3"
  },
  "language_info": {
   "codemirror_mode": {
    "name": "ipython",
    "version": 2
   },
   "file_extension": ".py",
   "mimetype": "text/x-python",
   "name": "python",
   "nbconvert_exporter": "python",
   "pygments_lexer": "ipython2",
   "version": "2.7.6"
  }
 },
 "nbformat": 4,
 "nbformat_minor": 5
}
