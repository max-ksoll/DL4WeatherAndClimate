{
 "cells": [
  {
   "cell_type": "code",
   "execution_count": null,
   "id": "initial_id",
   "metadata": {
    "collapsed": true
   },
   "outputs": [],
   "source": [
    "import zarr\n",
    "import numpy as np\n",
    "import xarray as xr\n",
    "import torch"
   ]
  },
  {
   "cell_type": "code",
   "outputs": [],
   "source": [
    "bs = 1\n",
    "autoregression_steps = 1\n",
    "timesteps_cnt = 24\n",
    "levels_cnt = 5\n",
    "vars_cnt = 5\n",
    "lats_cnt = 121\n",
    "lons_cnt = 240"
   ],
   "metadata": {
    "collapsed": false
   },
   "id": "dff746d3bc8693e0",
   "execution_count": null
  },
  {
   "cell_type": "code",
   "outputs": [],
   "source": [
    "class Model:\n",
    "    def __init__(self):\n",
    "        pass\n",
    "\n",
    "    def forward(self, x):\n",
    "        return torch.rand((bs, autoregression_steps, levels_cnt * vars_cnt, lats_cnt, lons_cnt))\n",
    "\n",
    "\n",
    "model = Model()"
   ],
   "metadata": {
    "collapsed": false
   },
   "id": "3e54b7a97009b3ea",
   "execution_count": null
  },
  {
   "cell_type": "code",
   "outputs": [],
   "source": [
    "store = zarr.DirectoryStore('./preds.zarr')\n",
    "root = zarr.group(store=store, overwrite=True)\n",
    "\n",
    "latitude = root.create_dataset('lats', shape=(0,), chunks=(lats_cnt,), dtype=np.float64, fill_value=0)\n",
    "levels = root.create_dataset('levels', shape=(0,), chunks=(levels_cnt,), dtype=np.int32, fill_value=0)\n",
    "longitude = root.create_dataset('lons', shape=(0,), chunks=(lons_cnt,), dtype=np.float64, fill_value=0)\n",
    "# pred_timedelta muss noch implementiert werden, ich glaub im zusammenhang mit autoregression steps\n",
    "# pred_timedelta = root.create_dataset('pred_timedelta', shape=(10,), dtype='timedelta64[ns]')\n",
    "# die Zeit muss noch richtig gesetzt werden, wahrscheinlich dann über das Dataset\n",
    "time = root.create_dataset('time', shape=(0,), chunks=(timesteps_cnt,), dtype='datetime64[ns]', fill_value=0)\n",
    "\n",
    "temp = root.create_dataset('temperature', shape=(0, levels_cnt, lats_cnt, lons_cnt), dtype=np.float64,\n",
    "                           chunks=(16, levels_cnt, lats_cnt, lons_cnt), fill_value=0)\n",
    "temp.attrs['_ARRAY_DIMENSIONS'] = ['time', 'levels', 'lats', 'lons']\n",
    "humid = root.create_dataset('specific_humidity', shape=(0, levels_cnt, lats_cnt, lons_cnt), dtype=np.float64,\n",
    "                            chunks=(16, levels_cnt, lats_cnt, lons_cnt), fill_value=0)\n",
    "humid.attrs['_ARRAY_DIMENSIONS'] = ['time', 'levels', 'lats', 'lons']\n",
    "uwind = root.create_dataset('u_component_of_wind', shape=(0, levels_cnt, lats_cnt, lons_cnt), dtype=np.float64,\n",
    "                            chunks=(16, levels_cnt, lats_cnt, lons_cnt), fill_value=0)\n",
    "uwind.attrs['_ARRAY_DIMENSIONS'] = ['time', 'levels', 'lats', 'lons']\n",
    "vwind = root.create_dataset('v_component_of_wind', shape=(0, levels_cnt, lats_cnt, lons_cnt), dtype=np.float64,\n",
    "                            chunks=(16, levels_cnt, lats_cnt, lons_cnt), fill_value=0)\n",
    "vwind.attrs['_ARRAY_DIMENSIONS'] = ['time', 'levels', 'lats', 'lons']\n",
    "geo = root.create_dataset('geopotential', shape=(0, levels_cnt, lats_cnt, lons_cnt), dtype=np.float64,\n",
    "                          chunks=(16, levels_cnt, lats_cnt, lons_cnt), fill_value=0)\n",
    "geo.attrs['_ARRAY_DIMENSIONS'] = ['time', 'levels', 'lats', 'lons']\n"
   ],
   "metadata": {
    "collapsed": false
   },
   "id": "479a4364a2cce1da",
   "execution_count": null
  },
  {
   "cell_type": "code",
   "outputs": [],
   "source": [
    "latitude.append(np.linspace(-90, 90, lats_cnt))\n",
    "latitude.attrs['_ARRAY_DIMENSIONS'] = ['lats']\n",
    "\n",
    "levels.append(np.arange(levels_cnt))\n",
    "levels.attrs['_ARRAY_DIMENSIONS'] = ['levels']\n",
    "\n",
    "longitude.append(np.linspace(-180, 180, lons_cnt))\n",
    "longitude.attrs['_ARRAY_DIMENSIONS'] = ['lons']\n",
    "\n",
    "time.append(np.arange(timesteps_cnt))\n",
    "time.attrs['_ARRAY_DIMENSIONS'] = ['time']"
   ],
   "metadata": {
    "collapsed": false
   },
   "id": "2857fd02b712a7c5",
   "execution_count": null
  },
  {
   "cell_type": "code",
   "outputs": [],
   "source": [
    "# range muss noch durch den dataloader ersetzt werden\n",
    "for idx, batch in enumerate(range(timesteps_cnt)):\n",
    "    # model muss noch durch ein richtiges Modell ersetzt werden\n",
    "    # die 0 steht für die autoregression steps\n",
    "    preds = torch.reshape(model.forward(batch)[0, 0, :, :, :], (vars_cnt, levels_cnt, lats_cnt, lons_cnt)).numpy()\n",
    "    # Hier muss noch sinnvoll die Autoregression Steps implementiert werden\n",
    "    # Da bin ich mir aber gerade nicht sicher, wie die richtig rein müssen\n",
    "    # wahrscheinlich übers timedelta\n",
    "    temp.append(preds[None, 0, :, :, :], axis=0)\n",
    "    humid.append(preds[None, 1, :, :, :], axis=0)\n",
    "    uwind.append(preds[None, 2, :, :, :], axis=0)\n",
    "    vwind.append(preds[None, 3, :, :, :], axis=0)\n",
    "    geo.append(preds[None, 4, :, :, :], axis=0)"
   ],
   "metadata": {
    "collapsed": false
   },
   "id": "ec287018c33a0cac",
   "execution_count": null
  },
  {
   "cell_type": "code",
   "outputs": [],
   "source": [
    "zarr.consolidate_metadata(store)"
   ],
   "metadata": {
    "collapsed": false
   },
   "id": "49b4be43b8c49a1c",
   "execution_count": null
  },
  {
   "cell_type": "code",
   "outputs": [],
   "source": [
    "# beim laden mit xarray kommt es zum problem, dass 0´en durch nan ersetzt werden\n",
    "b = xr.open_zarr('./preds.zarr')\n",
    "b"
   ],
   "metadata": {
    "collapsed": false
   },
   "id": "df678a3d7aed436b",
   "execution_count": null
  }
 ],
 "metadata": {
  "kernelspec": {
   "display_name": "Python 3",
   "language": "python",
   "name": "python3"
  },
  "language_info": {
   "codemirror_mode": {
    "name": "ipython",
    "version": 2
   },
   "file_extension": ".py",
   "mimetype": "text/x-python",
   "name": "python",
   "nbconvert_exporter": "python",
   "pygments_lexer": "ipython2",
   "version": "2.7.6"
  }
 },
 "nbformat": 4,
 "nbformat_minor": 5
}
