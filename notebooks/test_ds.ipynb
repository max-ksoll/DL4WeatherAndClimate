{
 "cells": [
  {
   "cell_type": "code",
   "execution_count": 70,
   "id": "initial_id",
   "metadata": {
    "collapsed": true,
    "ExecuteTime": {
     "end_time": "2024-04-06T10:55:55.143156Z",
     "start_time": "2024-04-06T10:55:54.804094Z"
    }
   },
   "outputs": [
    {
     "name": "stdout",
     "output_type": "stream",
     "text": [
      "The autoreload extension is already loaded. To reload it, use:\n",
      "  %reload_ext autoreload\n"
     ]
    }
   ],
   "source": [
    "%load_ext autoreload\n",
    "%autoreload\n",
    "from src.era5_dataset import ERA5Dataset, TimeMode\n",
    "from src.fuxi import FuXi\n",
    "import torch\n",
    "from tqdm import tqdm\n",
    "import os\n",
    "from torch.utils.data import DataLoader"
   ]
  },
  {
   "cell_type": "code",
   "outputs": [
    {
     "name": "stdout",
     "output_type": "stream",
     "text": [
      "1\n"
     ]
    }
   ],
   "source": [
    "train_ds = ERA5Dataset(\n",
    "    '/Users/ksoll/git/DL4WeatherAndClimate/data/era5_6hourly.zarr',\n",
    "    1,\n",
    "    TimeMode.BEFORE,\n",
    "    end_time=\"2022-12-31T18:00:00\",\n",
    "    max_autoregression_steps=1\n",
    ")\n",
    "\n",
    "test_ds = ERA5Dataset(\n",
    "    '/Users/ksoll/git/DL4WeatherAndClimate/data/era5_6hourly.zarr',\n",
    "    1,\n",
    "    TimeMode.BETWEEN,\n",
    "    start_time=\"2023-01-01T00:00:00\",\n",
    "    end_time=\"2023-12-31T18:00:00\",\n",
    "    max_autoregression_steps=1\n",
    ")\n",
    "# model = FuXi(25, 2, 2, 121, 240, heads=1)\n",
    "print(len(train_ds))"
   ],
   "metadata": {
    "collapsed": false,
    "ExecuteTime": {
     "end_time": "2024-04-06T10:55:55.156239Z",
     "start_time": "2024-04-06T10:55:55.143809Z"
    }
   },
   "id": "55c96cc9cba37f76",
   "execution_count": 71
  },
  {
   "cell_type": "code",
   "outputs": [
    {
     "name": "stderr",
     "output_type": "stream",
     "text": [
      "0it [00:00, ?it/s]"
     ]
    },
    {
     "name": "stdout",
     "output_type": "stream",
     "text": [
      "[1460]\n"
     ]
    },
    {
     "name": "stderr",
     "output_type": "stream",
     "text": [
      "\n"
     ]
    }
   ],
   "source": [
    "loader_params = {\n",
    "    'batch_size': None,\n",
    "    'batch_sampler': None,\n",
    "    'shuffle': False,\n",
    "    'num_workers': 1,\n",
    "    'pin_memory': True\n",
    "}\n",
    "dl = DataLoader(ds, **loader_params, sampler=None)\n",
    "\n",
    "for item in tqdm(iter(ds)):\n",
    "    print(item[0].shape, item[1].shape)"
   ],
   "metadata": {
    "collapsed": false,
    "ExecuteTime": {
     "end_time": "2024-04-06T10:55:55.159301Z",
     "start_time": "2024-04-06T10:55:55.155679Z"
    }
   },
   "id": "2fe8ff6b26d995a6",
   "execution_count": 72
  },
  {
   "cell_type": "code",
   "outputs": [],
   "source": [],
   "metadata": {
    "collapsed": false,
    "ExecuteTime": {
     "end_time": "2024-04-06T10:55:55.160719Z",
     "start_time": "2024-04-06T10:55:55.159648Z"
    }
   },
   "id": "f8db4c19e1775668",
   "execution_count": 72
  }
 ],
 "metadata": {
  "kernelspec": {
   "display_name": "Python 3",
   "language": "python",
   "name": "python3"
  },
  "language_info": {
   "codemirror_mode": {
    "name": "ipython",
    "version": 2
   },
   "file_extension": ".py",
   "mimetype": "text/x-python",
   "name": "python",
   "nbconvert_exporter": "python",
   "pygments_lexer": "ipython2",
   "version": "2.7.6"
  }
 },
 "nbformat": 4,
 "nbformat_minor": 5
}
