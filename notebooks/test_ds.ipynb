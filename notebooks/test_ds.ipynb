{
 "cells": [
  {
   "cell_type": "code",
   "execution_count": 103,
   "id": "initial_id",
   "metadata": {
    "collapsed": true,
    "ExecuteTime": {
     "end_time": "2024-04-06T08:54:11.948833Z",
     "start_time": "2024-04-06T08:54:10.640692Z"
    }
   },
   "outputs": [
    {
     "name": "stdout",
     "output_type": "stream",
     "text": [
      "The autoreload extension is already loaded. To reload it, use:\n",
      "  %reload_ext autoreload\n"
     ]
    }
   ],
   "source": [
    "%load_ext autoreload\n",
    "%autoreload\n",
    "from src.era5_dataset import ERA5Dataset\n",
    "from src.fuxi import FuXi\n",
    "import torch\n",
    "from tqdm import tqdm\n",
    "import os\n",
    "from torch.utils.data import DataLoader\n"
   ]
  },
  {
   "cell_type": "code",
   "outputs": [],
   "source": [
    "ds = ERA5Dataset('/Users/ksoll/git/DL4WeatherAndClimate/data/era5_6hourly.zarr', 1, max_autoregression_steps=20)\n",
    "model = FuXi(25, 2, 2, 121, 240, heads=1)"
   ],
   "metadata": {
    "collapsed": false,
    "ExecuteTime": {
     "end_time": "2024-04-06T08:54:11.962447Z",
     "start_time": "2024-04-06T08:54:11.949695Z"
    }
   },
   "id": "55c96cc9cba37f76",
   "execution_count": 104
  },
  {
   "cell_type": "code",
   "outputs": [
    {
     "name": "stderr",
     "output_type": "stream",
     "text": [
      "  0%|          | 0/2920 [00:00<?, ?it/s]"
     ]
    },
    {
     "name": "stdout",
     "output_type": "stream",
     "text": [
      "torch.Size([1, 19, 25, 121, 240])\n",
      "torch.Size([1, 2, 25, 121, 240])\n",
      "torch.Size([1, 19, 25, 121, 240])\n",
      "torch.Size([1, 2, 25, 121, 240])\n",
      "torch.Size([1, 19, 25, 121, 240])\n",
      "torch.Size([1, 2, 25, 121, 240])\n",
      "torch.Size([1, 19, 25, 121, 240])\n",
      "torch.Size([1, 2, 25, 121, 240])\n",
      "torch.Size([1, 19, 25, 121, 240])\n",
      "torch.Size([1, 2, 25, 121, 240])\n",
      "torch.Size([1, 19, 25, 121, 240])\n",
      "torch.Size([1, 2, 25, 121, 240])\n",
      "torch.Size([1, 19, 25, 121, 240])\n",
      "torch.Size([1, 2, 25, 121, 240])\n",
      "torch.Size([1, 19, 25, 121, 240])\n",
      "torch.Size([1, 2, 25, 121, 240])\n",
      "torch.Size([1, 19, 25, 121, 240])\n",
      "torch.Size([1, 2, 25, 121, 240])\n",
      "torch.Size([1, 19, 25, 121, 240])\n",
      "torch.Size([1, 2, 25, 121, 240])\n",
      "torch.Size([1, 19, 25, 121, 240])\n",
      "torch.Size([1, 2, 25, 121, 240])\n",
      "torch.Size([1, 19, 25, 121, 240])\n",
      "torch.Size([1, 2, 25, 121, 240])\n",
      "tensor([5.1647], grad_fn=<AddBackward0>)\n"
     ]
    },
    {
     "name": "stderr",
     "output_type": "stream",
     "text": [
      "  0%|          | 0/2920 [00:04<?, ?it/s]\n"
     ]
    }
   ],
   "source": [
    "loader_params = {'batch_size': None,\n",
    "                     'batch_sampler': None,\n",
    "                     'shuffle': False,\n",
    "                     'num_workers': os.cpu_count() // 2,\n",
    "                     'pin_memory': True}\n",
    "dl = DataLoader(ds, **loader_params, sampler=None)\n",
    "\n",
    "for item in tqdm(dl):\n",
    "    # print(item[0].shape)\n",
    "    # print(item[1].shape)\n",
    "    # print(torch.mean(item[0]), torch.max(item[0]), torch.min(item[0]))\n",
    "    # print(torch.mean(item[1]), torch.max(item[1]), torch.min(item[1]))\n",
    "    inp, lab = item\n",
    "    loss = model.training_step(inp, lab, autoregression_steps=12)\n",
    "    print(loss)\n",
    "    break"
   ],
   "metadata": {
    "collapsed": false,
    "ExecuteTime": {
     "end_time": "2024-04-06T08:54:16.041819Z",
     "start_time": "2024-04-06T08:54:11.956267Z"
    }
   },
   "id": "2fe8ff6b26d995a6",
   "execution_count": 105
  }
 ],
 "metadata": {
  "kernelspec": {
   "display_name": "Python 3",
   "language": "python",
   "name": "python3"
  },
  "language_info": {
   "codemirror_mode": {
    "name": "ipython",
    "version": 2
   },
   "file_extension": ".py",
   "mimetype": "text/x-python",
   "name": "python",
   "nbconvert_exporter": "python",
   "pygments_lexer": "ipython2",
   "version": "2.7.6"
  }
 },
 "nbformat": 4,
 "nbformat_minor": 5
}
