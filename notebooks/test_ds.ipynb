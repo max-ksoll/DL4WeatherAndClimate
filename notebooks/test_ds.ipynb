{
 "cells": [
  {
   "cell_type": "code",
   "execution_count": 25,
   "id": "initial_id",
   "metadata": {
    "collapsed": true,
    "ExecuteTime": {
     "end_time": "2024-04-05T20:07:11.109251Z",
     "start_time": "2024-04-05T20:07:11.106632Z"
    }
   },
   "outputs": [],
   "source": [
    "from src.era5_dataset import ERA5Dataset\n",
    "from src.fuxi import FuXi\n",
    "import torch\n"
   ]
  },
  {
   "cell_type": "code",
   "outputs": [],
   "source": [
    "ds = ERA5Dataset('/Users/ksoll/git/DL4WeatherAndClimate/data/era5_6hourly.zarr', 1)\n",
    "#model = FuXi(25, 2, 2, 121, 240, heads=1)"
   ],
   "metadata": {
    "collapsed": false,
    "ExecuteTime": {
     "end_time": "2024-04-05T20:07:11.111264Z",
     "start_time": "2024-04-05T20:07:11.108775Z"
    }
   },
   "id": "55c96cc9cba37f76",
   "execution_count": 26
  },
  {
   "cell_type": "code",
   "outputs": [
    {
     "name": "stdout",
     "output_type": "stream",
     "text": [
      "torch.Size([1, 2, 25, 121, 240])\n",
      "torch.Size([1, 25, 121, 240])\n",
      "tensor(0.3879) tensor(0.9917) tensor(0.0012)\n",
      "tensor(0.3877) tensor(0.9904) tensor(0.0012)\n"
     ]
    }
   ],
   "source": [
    "for item in iter(ds):\n",
    "    print(item[0].shape)\n",
    "    print(item[1].shape)\n",
    "    print(torch.mean(item[0]), torch.max(item[0]), torch.min(item[0]))\n",
    "    print(torch.mean(item[1]), torch.max(item[1]), torch.min(item[1]))\n",
    "    #print(out.shape)\n",
    "    break"
   ],
   "metadata": {
    "collapsed": false,
    "ExecuteTime": {
     "end_time": "2024-04-05T20:07:11.176900Z",
     "start_time": "2024-04-05T20:07:11.111965Z"
    }
   },
   "id": "2fe8ff6b26d995a6",
   "execution_count": 27
  }
 ],
 "metadata": {
  "kernelspec": {
   "display_name": "Python 3",
   "language": "python",
   "name": "python3"
  },
  "language_info": {
   "codemirror_mode": {
    "name": "ipython",
    "version": 2
   },
   "file_extension": ".py",
   "mimetype": "text/x-python",
   "name": "python",
   "nbconvert_exporter": "python",
   "pygments_lexer": "ipython2",
   "version": "2.7.6"
  }
 },
 "nbformat": 4,
 "nbformat_minor": 5
}
