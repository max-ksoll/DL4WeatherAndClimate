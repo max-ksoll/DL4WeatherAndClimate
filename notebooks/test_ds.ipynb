{
 "cells": [
  {
   "cell_type": "code",
   "execution_count": 89,
   "id": "initial_id",
   "metadata": {
    "collapsed": true,
    "ExecuteTime": {
     "end_time": "2024-04-06T11:20:52.489299Z",
     "start_time": "2024-04-06T11:20:51.797625Z"
    }
   },
   "outputs": [
    {
     "name": "stdout",
     "output_type": "stream",
     "text": [
      "The autoreload extension is already loaded. To reload it, use:\n",
      "  %reload_ext autoreload\n"
     ]
    }
   ],
   "source": [
    "%load_ext autoreload\n",
    "%autoreload\n",
    "from src.era5_dataset import ERA5Dataset, TimeMode\n",
    "from src.fuxi import FuXi\n",
    "import torch\n",
    "from tqdm import tqdm\n",
    "import os\n",
    "from torch.utils.data import DataLoader"
   ]
  },
  {
   "cell_type": "code",
   "outputs": [
    {
     "name": "stdout",
     "output_type": "stream",
     "text": [
      "2917\n"
     ]
    }
   ],
   "source": [
    "train_ds = ERA5Dataset(\n",
    "    '/Users/ksoll/git/DL4WeatherAndClimate/data/era5_6hourly.zarr',\n",
    "    1,\n",
    "    TimeMode.BEFORE,\n",
    "    end_time=\"2022-12-31T18:00:00\",\n",
    "    max_autoregression_steps=1\n",
    ")\n",
    "\n",
    "test_ds = ERA5Dataset(\n",
    "    '/Users/ksoll/git/DL4WeatherAndClimate/data/era5_6hourly.zarr',\n",
    "    1,\n",
    "    TimeMode.BETWEEN,\n",
    "    start_time=\"2023-01-01T00:00:00\",\n",
    "    end_time=\"2023-12-31T18:00:00\",\n",
    "    max_autoregression_steps=1\n",
    ")\n",
    "# model = FuXi(25, 2, 2, 121, 240, heads=1)\n",
    "print(len(train_ds))"
   ],
   "metadata": {
    "collapsed": false,
    "ExecuteTime": {
     "end_time": "2024-04-06T11:20:52.517821Z",
     "start_time": "2024-04-06T11:20:52.490572Z"
    }
   },
   "id": "55c96cc9cba37f76",
   "execution_count": 90
  },
  {
   "cell_type": "code",
   "outputs": [
    {
     "name": "stderr",
     "output_type": "stream",
     "text": [
      "2it [00:00, 15.29it/s]"
     ]
    },
    {
     "name": "stdout",
     "output_type": "stream",
     "text": [
      "torch.Size([1, 2, 25, 121, 240]) torch.Size([1, 1, 25, 121, 240])\n",
      "torch.Size([1, 2, 25, 121, 240]) torch.Size([1, 1, 25, 121, 240])\n",
      "torch.Size([1, 2, 25, 121, 240]) torch.Size([1, 1, 25, 121, 240])\n"
     ]
    },
    {
     "name": "stderr",
     "output_type": "stream",
     "text": [
      "6it [00:00, 15.59it/s]"
     ]
    },
    {
     "name": "stdout",
     "output_type": "stream",
     "text": [
      "torch.Size([1, 2, 25, 121, 240]) torch.Size([1, 1, 25, 121, 240])\n",
      "torch.Size([1, 2, 25, 121, 240]) torch.Size([1, 1, 25, 121, 240])\n",
      "torch.Size([1, 2, 25, 121, 240]) torch.Size([1, 1, 25, 121, 240])\n",
      "torch.Size([1, 2, 25, 121, 240]) torch.Size([1, 1, 25, 121, 240])\n"
     ]
    },
    {
     "name": "stderr",
     "output_type": "stream",
     "text": [
      "8it [00:00, 15.17it/s]"
     ]
    },
    {
     "name": "stdout",
     "output_type": "stream",
     "text": [
      "torch.Size([1, 2, 25, 121, 240]) torch.Size([1, 1, 25, 121, 240])\n",
      "torch.Size([1, 2, 25, 121, 240]) torch.Size([1, 1, 25, 121, 240])\n"
     ]
    },
    {
     "name": "stderr",
     "output_type": "stream",
     "text": [
      "10it [00:00, 15.28it/s]"
     ]
    },
    {
     "name": "stdout",
     "output_type": "stream",
     "text": [
      "torch.Size([1, 2, 25, 121, 240]) torch.Size([1, 1, 25, 121, 240])\n",
      "torch.Size([1, 2, 25, 121, 240]) torch.Size([1, 1, 25, 121, 240])\n"
     ]
    },
    {
     "name": "stderr",
     "output_type": "stream",
     "text": [
      "12it [00:00, 15.34it/s]"
     ]
    },
    {
     "name": "stdout",
     "output_type": "stream",
     "text": [
      "torch.Size([1, 2, 25, 121, 240]) torch.Size([1, 1, 25, 121, 240])\n",
      "torch.Size([1, 2, 25, 121, 240]) torch.Size([1, 1, 25, 121, 240])\n"
     ]
    },
    {
     "name": "stderr",
     "output_type": "stream",
     "text": [
      "14it [00:00, 15.29it/s]"
     ]
    },
    {
     "name": "stdout",
     "output_type": "stream",
     "text": [
      "torch.Size([1, 2, 25, 121, 240]) torch.Size([1, 1, 25, 121, 240])\n",
      "torch.Size([1, 2, 25, 121, 240]) torch.Size([1, 1, 25, 121, 240])\n"
     ]
    },
    {
     "name": "stderr",
     "output_type": "stream",
     "text": [
      "16it [00:01, 15.46it/s]"
     ]
    },
    {
     "name": "stdout",
     "output_type": "stream",
     "text": [
      "torch.Size([1, 2, 25, 121, 240]) torch.Size([1, 1, 25, 121, 240])\n",
      "torch.Size([1, 2, 25, 121, 240]) torch.Size([1, 1, 25, 121, 240])\n"
     ]
    },
    {
     "name": "stderr",
     "output_type": "stream",
     "text": [
      "18it [00:01, 15.24it/s]"
     ]
    },
    {
     "name": "stdout",
     "output_type": "stream",
     "text": [
      "torch.Size([1, 2, 25, 121, 240]) torch.Size([1, 1, 25, 121, 240])\n",
      "torch.Size([1, 2, 25, 121, 240]) torch.Size([1, 1, 25, 121, 240])\n"
     ]
    },
    {
     "name": "stderr",
     "output_type": "stream",
     "text": [
      "20it [00:01, 15.13it/s]"
     ]
    },
    {
     "name": "stdout",
     "output_type": "stream",
     "text": [
      "torch.Size([1, 2, 25, 121, 240]) torch.Size([1, 1, 25, 121, 240])\n",
      "torch.Size([1, 2, 25, 121, 240]) torch.Size([1, 1, 25, 121, 240])\n"
     ]
    },
    {
     "name": "stderr",
     "output_type": "stream",
     "text": [
      "22it [00:01, 15.23it/s]"
     ]
    },
    {
     "name": "stdout",
     "output_type": "stream",
     "text": [
      "torch.Size([1, 2, 25, 121, 240]) torch.Size([1, 1, 25, 121, 240])\n"
     ]
    },
    {
     "name": "stderr",
     "output_type": "stream",
     "text": [
      "24it [00:01, 15.01it/s]"
     ]
    },
    {
     "name": "stdout",
     "output_type": "stream",
     "text": [
      "torch.Size([1, 2, 25, 121, 240]) torch.Size([1, 1, 25, 121, 240])\n",
      "torch.Size([1, 2, 25, 121, 240]) torch.Size([1, 1, 25, 121, 240])\n"
     ]
    },
    {
     "name": "stderr",
     "output_type": "stream",
     "text": [
      "26it [00:01, 15.24it/s]"
     ]
    },
    {
     "name": "stdout",
     "output_type": "stream",
     "text": [
      "torch.Size([1, 2, 25, 121, 240]) torch.Size([1, 1, 25, 121, 240])\n",
      "torch.Size([1, 2, 25, 121, 240]) torch.Size([1, 1, 25, 121, 240])\n"
     ]
    },
    {
     "name": "stderr",
     "output_type": "stream",
     "text": [
      "28it [00:01, 15.41it/s]"
     ]
    },
    {
     "name": "stdout",
     "output_type": "stream",
     "text": [
      "torch.Size([1, 2, 25, 121, 240]) torch.Size([1, 1, 25, 121, 240])\n",
      "torch.Size([1, 2, 25, 121, 240]) torch.Size([1, 1, 25, 121, 240])\n"
     ]
    },
    {
     "name": "stderr",
     "output_type": "stream",
     "text": [
      "30it [00:01, 15.43it/s]"
     ]
    },
    {
     "name": "stdout",
     "output_type": "stream",
     "text": [
      "torch.Size([1, 2, 25, 121, 240]) torch.Size([1, 1, 25, 121, 240])\n",
      "torch.Size([1, 2, 25, 121, 240]) torch.Size([1, 1, 25, 121, 240])\n"
     ]
    },
    {
     "name": "stderr",
     "output_type": "stream",
     "text": [
      "32it [00:02, 15.64it/s]"
     ]
    },
    {
     "name": "stdout",
     "output_type": "stream",
     "text": [
      "torch.Size([1, 2, 25, 121, 240]) torch.Size([1, 1, 25, 121, 240])\n",
      "torch.Size([1, 2, 25, 121, 240]) torch.Size([1, 1, 25, 121, 240])\n",
      "torch.Size([1, 2, 25, 121, 240]) torch.Size([1, 1, 25, 121, 240])\n"
     ]
    },
    {
     "name": "stderr",
     "output_type": "stream",
     "text": [
      "34it [00:02, 15.15it/s]"
     ]
    },
    {
     "name": "stdout",
     "output_type": "stream",
     "text": [
      "torch.Size([1, 2, 25, 121, 240]) torch.Size([1, 1, 25, 121, 240])\n",
      "torch.Size([1, 2, 25, 121, 240]) torch.Size([1, 1, 25, 121, 240])\n"
     ]
    },
    {
     "name": "stderr",
     "output_type": "stream",
     "text": [
      "36it [00:02, 14.77it/s]"
     ]
    },
    {
     "name": "stdout",
     "output_type": "stream",
     "text": [
      "torch.Size([1, 2, 25, 121, 240]) torch.Size([1, 1, 25, 121, 240])\n"
     ]
    },
    {
     "name": "stderr",
     "output_type": "stream",
     "text": [
      "38it [00:02, 14.63it/s]"
     ]
    },
    {
     "name": "stdout",
     "output_type": "stream",
     "text": [
      "torch.Size([1, 2, 25, 121, 240]) torch.Size([1, 1, 25, 121, 240])\n",
      "torch.Size([1, 2, 25, 121, 240]) torch.Size([1, 1, 25, 121, 240])\n"
     ]
    },
    {
     "name": "stderr",
     "output_type": "stream",
     "text": [
      "40it [00:02, 14.88it/s]"
     ]
    },
    {
     "name": "stdout",
     "output_type": "stream",
     "text": [
      "torch.Size([1, 2, 25, 121, 240]) torch.Size([1, 1, 25, 121, 240])\n",
      "torch.Size([1, 2, 25, 121, 240]) torch.Size([1, 1, 25, 121, 240])\n"
     ]
    },
    {
     "name": "stderr",
     "output_type": "stream",
     "text": [
      "42it [00:02, 14.98it/s]"
     ]
    },
    {
     "name": "stdout",
     "output_type": "stream",
     "text": [
      "torch.Size([1, 2, 25, 121, 240]) torch.Size([1, 1, 25, 121, 240])\n",
      "torch.Size([1, 2, 25, 121, 240]) torch.Size([1, 1, 25, 121, 240])\n"
     ]
    },
    {
     "name": "stderr",
     "output_type": "stream",
     "text": [
      "44it [00:02, 15.02it/s]"
     ]
    },
    {
     "name": "stdout",
     "output_type": "stream",
     "text": [
      "torch.Size([1, 2, 25, 121, 240]) torch.Size([1, 1, 25, 121, 240])\n",
      "torch.Size([1, 2, 25, 121, 240]) torch.Size([1, 1, 25, 121, 240])\n"
     ]
    },
    {
     "name": "stderr",
     "output_type": "stream",
     "text": [
      "46it [00:03, 15.01it/s]"
     ]
    },
    {
     "name": "stdout",
     "output_type": "stream",
     "text": [
      "torch.Size([1, 2, 25, 121, 240]) torch.Size([1, 1, 25, 121, 240])\n",
      "torch.Size([1, 2, 25, 121, 240]) torch.Size([1, 1, 25, 121, 240])\n"
     ]
    },
    {
     "name": "stderr",
     "output_type": "stream",
     "text": [
      "48it [00:03, 15.31it/s]"
     ]
    },
    {
     "name": "stdout",
     "output_type": "stream",
     "text": [
      "torch.Size([1, 2, 25, 121, 240]) torch.Size([1, 1, 25, 121, 240])\n",
      "torch.Size([1, 2, 25, 121, 240]) torch.Size([1, 1, 25, 121, 240])\n"
     ]
    },
    {
     "name": "stderr",
     "output_type": "stream",
     "text": [
      "50it [00:03, 15.41it/s]"
     ]
    },
    {
     "name": "stdout",
     "output_type": "stream",
     "text": [
      "torch.Size([1, 2, 25, 121, 240]) torch.Size([1, 1, 25, 121, 240])\n",
      "torch.Size([1, 2, 25, 121, 240]) torch.Size([1, 1, 25, 121, 240])\n"
     ]
    },
    {
     "name": "stderr",
     "output_type": "stream",
     "text": [
      "52it [00:03, 15.36it/s]"
     ]
    },
    {
     "name": "stdout",
     "output_type": "stream",
     "text": [
      "torch.Size([1, 2, 25, 121, 240]) torch.Size([1, 1, 25, 121, 240])\n",
      "torch.Size([1, 2, 25, 121, 240]) torch.Size([1, 1, 25, 121, 240])\n"
     ]
    },
    {
     "name": "stderr",
     "output_type": "stream",
     "text": [
      "54it [00:03, 15.06it/s]"
     ]
    },
    {
     "name": "stdout",
     "output_type": "stream",
     "text": [
      "torch.Size([1, 2, 25, 121, 240]) torch.Size([1, 1, 25, 121, 240])\n",
      "torch.Size([1, 2, 25, 121, 240]) torch.Size([1, 1, 25, 121, 240])\n",
      "torch.Size([1, 2, 25, 121, 240]) torch.Size([1, 1, 25, 121, 240])\n"
     ]
    },
    {
     "name": "stderr",
     "output_type": "stream",
     "text": [
      "58it [00:03, 15.03it/s]"
     ]
    },
    {
     "name": "stdout",
     "output_type": "stream",
     "text": [
      "torch.Size([1, 2, 25, 121, 240]) torch.Size([1, 1, 25, 121, 240])\n",
      "torch.Size([1, 2, 25, 121, 240]) torch.Size([1, 1, 25, 121, 240])\n",
      "torch.Size([1, 2, 25, 121, 240]) torch.Size([1, 1, 25, 121, 240])\n",
      "torch.Size([1, 2, 25, 121, 240]) torch.Size([1, 1, 25, 121, 240])\n"
     ]
    },
    {
     "name": "stderr",
     "output_type": "stream",
     "text": [
      "62it [00:04, 15.20it/s]"
     ]
    },
    {
     "name": "stdout",
     "output_type": "stream",
     "text": [
      "torch.Size([1, 2, 25, 121, 240]) torch.Size([1, 1, 25, 121, 240])\n",
      "torch.Size([1, 2, 25, 121, 240]) torch.Size([1, 1, 25, 121, 240])\n",
      "torch.Size([1, 2, 25, 121, 240]) torch.Size([1, 1, 25, 121, 240])\n",
      "torch.Size([1, 2, 25, 121, 240]) torch.Size([1, 1, 25, 121, 240])\n"
     ]
    },
    {
     "name": "stderr",
     "output_type": "stream",
     "text": [
      "64it [00:04, 14.76it/s]"
     ]
    },
    {
     "name": "stdout",
     "output_type": "stream",
     "text": [
      "torch.Size([1, 2, 25, 121, 240]) torch.Size([1, 1, 25, 121, 240])\n",
      "torch.Size([1, 2, 25, 121, 240]) torch.Size([1, 1, 25, 121, 240])\n"
     ]
    },
    {
     "name": "stderr",
     "output_type": "stream",
     "text": [
      "66it [00:04, 14.94it/s]"
     ]
    },
    {
     "name": "stdout",
     "output_type": "stream",
     "text": [
      "torch.Size([1, 2, 25, 121, 240]) torch.Size([1, 1, 25, 121, 240])\n"
     ]
    },
    {
     "name": "stderr",
     "output_type": "stream",
     "text": [
      "68it [00:04, 14.60it/s]"
     ]
    },
    {
     "name": "stdout",
     "output_type": "stream",
     "text": [
      "torch.Size([1, 2, 25, 121, 240]) torch.Size([1, 1, 25, 121, 240])\n",
      "torch.Size([1, 2, 25, 121, 240]) torch.Size([1, 1, 25, 121, 240])\n",
      "torch.Size([1, 2, 25, 121, 240]) torch.Size([1, 1, 25, 121, 240])\n"
     ]
    },
    {
     "name": "stderr",
     "output_type": "stream",
     "text": [
      "70it [00:04, 14.49it/s]"
     ]
    },
    {
     "name": "stdout",
     "output_type": "stream",
     "text": [
      "torch.Size([1, 2, 25, 121, 240]) torch.Size([1, 1, 25, 121, 240])\n",
      "torch.Size([1, 2, 25, 121, 240]) torch.Size([1, 1, 25, 121, 240])\n"
     ]
    },
    {
     "name": "stderr",
     "output_type": "stream",
     "text": [
      "72it [00:04, 14.73it/s]"
     ]
    },
    {
     "name": "stdout",
     "output_type": "stream",
     "text": [
      "torch.Size([1, 2, 25, 121, 240]) torch.Size([1, 1, 25, 121, 240])\n",
      "torch.Size([1, 2, 25, 121, 240]) torch.Size([1, 1, 25, 121, 240])\n"
     ]
    },
    {
     "name": "stderr",
     "output_type": "stream",
     "text": [
      "74it [00:04, 15.01it/s]"
     ]
    },
    {
     "name": "stdout",
     "output_type": "stream",
     "text": [
      "torch.Size([1, 2, 25, 121, 240]) torch.Size([1, 1, 25, 121, 240])\n",
      "torch.Size([1, 2, 25, 121, 240]) torch.Size([1, 1, 25, 121, 240])\n"
     ]
    },
    {
     "name": "stderr",
     "output_type": "stream",
     "text": [
      "76it [00:05, 15.15it/s]"
     ]
    },
    {
     "name": "stdout",
     "output_type": "stream",
     "text": [
      "torch.Size([1, 2, 25, 121, 240]) torch.Size([1, 1, 25, 121, 240])\n",
      "torch.Size([1, 2, 25, 121, 240]) torch.Size([1, 1, 25, 121, 240])\n"
     ]
    },
    {
     "name": "stderr",
     "output_type": "stream",
     "text": [
      "78it [00:05, 15.16it/s]"
     ]
    },
    {
     "name": "stdout",
     "output_type": "stream",
     "text": [
      "torch.Size([1, 2, 25, 121, 240]) torch.Size([1, 1, 25, 121, 240])\n",
      "torch.Size([1, 2, 25, 121, 240]) torch.Size([1, 1, 25, 121, 240])\n"
     ]
    },
    {
     "name": "stderr",
     "output_type": "stream",
     "text": [
      "80it [00:05, 15.37it/s]"
     ]
    },
    {
     "name": "stdout",
     "output_type": "stream",
     "text": [
      "torch.Size([1, 2, 25, 121, 240]) torch.Size([1, 1, 25, 121, 240])\n",
      "torch.Size([1, 2, 25, 121, 240]) torch.Size([1, 1, 25, 121, 240])\n"
     ]
    },
    {
     "name": "stderr",
     "output_type": "stream",
     "text": [
      "82it [00:05, 15.14it/s]"
     ]
    },
    {
     "name": "stdout",
     "output_type": "stream",
     "text": [
      "torch.Size([1, 2, 25, 121, 240]) torch.Size([1, 1, 25, 121, 240])\n"
     ]
    },
    {
     "name": "stderr",
     "output_type": "stream",
     "text": [
      "84it [00:05, 15.31it/s]"
     ]
    },
    {
     "name": "stdout",
     "output_type": "stream",
     "text": [
      "torch.Size([1, 2, 25, 121, 240]) torch.Size([1, 1, 25, 121, 240])\n",
      "torch.Size([1, 2, 25, 121, 240]) torch.Size([1, 1, 25, 121, 240])\n",
      "torch.Size([1, 2, 25, 121, 240]) torch.Size([1, 1, 25, 121, 240])\n"
     ]
    },
    {
     "name": "stderr",
     "output_type": "stream",
     "text": [
      "86it [00:05, 15.45it/s]"
     ]
    },
    {
     "name": "stdout",
     "output_type": "stream",
     "text": [
      "torch.Size([1, 2, 25, 121, 240]) torch.Size([1, 1, 25, 121, 240])\n"
     ]
    },
    {
     "name": "stderr",
     "output_type": "stream",
     "text": [
      "88it [00:05, 15.10it/s]"
     ]
    },
    {
     "name": "stdout",
     "output_type": "stream",
     "text": [
      "torch.Size([1, 2, 25, 121, 240]) torch.Size([1, 1, 25, 121, 240])\n",
      "torch.Size([1, 2, 25, 121, 240]) torch.Size([1, 1, 25, 121, 240])\n"
     ]
    },
    {
     "name": "stderr",
     "output_type": "stream",
     "text": [
      "90it [00:05, 15.15it/s]"
     ]
    },
    {
     "name": "stdout",
     "output_type": "stream",
     "text": [
      "torch.Size([1, 2, 25, 121, 240]) torch.Size([1, 1, 25, 121, 240])\n",
      "torch.Size([1, 2, 25, 121, 240]) torch.Size([1, 1, 25, 121, 240])\n"
     ]
    },
    {
     "name": "stderr",
     "output_type": "stream",
     "text": [
      "92it [00:06, 15.12it/s]"
     ]
    },
    {
     "name": "stdout",
     "output_type": "stream",
     "text": [
      "torch.Size([1, 2, 25, 121, 240]) torch.Size([1, 1, 25, 121, 240])\n",
      "torch.Size([1, 2, 25, 121, 240]) torch.Size([1, 1, 25, 121, 240])\n"
     ]
    },
    {
     "name": "stderr",
     "output_type": "stream",
     "text": [
      "94it [00:06, 15.22it/s]"
     ]
    },
    {
     "name": "stdout",
     "output_type": "stream",
     "text": [
      "torch.Size([1, 2, 25, 121, 240]) torch.Size([1, 1, 25, 121, 240])\n",
      "torch.Size([1, 2, 25, 121, 240]) torch.Size([1, 1, 25, 121, 240])\n",
      "torch.Size([1, 2, 25, 121, 240]) torch.Size([1, 1, 25, 121, 240])\n"
     ]
    },
    {
     "name": "stderr",
     "output_type": "stream",
     "text": [
      "96it [00:06, 14.83it/s]"
     ]
    },
    {
     "name": "stdout",
     "output_type": "stream",
     "text": [
      "torch.Size([1, 2, 25, 121, 240]) torch.Size([1, 1, 25, 121, 240])\n",
      "torch.Size([1, 2, 25, 121, 240]) torch.Size([1, 1, 25, 121, 240])\n"
     ]
    },
    {
     "name": "stderr",
     "output_type": "stream",
     "text": [
      "98it [00:06, 14.90it/s]"
     ]
    },
    {
     "name": "stdout",
     "output_type": "stream",
     "text": [
      "torch.Size([1, 2, 25, 121, 240]) torch.Size([1, 1, 25, 121, 240])\n",
      "torch.Size([1, 2, 25, 121, 240]) torch.Size([1, 1, 25, 121, 240])\n"
     ]
    },
    {
     "name": "stderr",
     "output_type": "stream",
     "text": [
      "100it [00:06, 15.01it/s]"
     ]
    },
    {
     "name": "stdout",
     "output_type": "stream",
     "text": [
      "torch.Size([1, 2, 25, 121, 240]) torch.Size([1, 1, 25, 121, 240])\n"
     ]
    },
    {
     "name": "stderr",
     "output_type": "stream",
     "text": [
      "102it [00:06, 14.95it/s]"
     ]
    },
    {
     "name": "stdout",
     "output_type": "stream",
     "text": [
      "torch.Size([1, 2, 25, 121, 240]) torch.Size([1, 1, 25, 121, 240])\n",
      "torch.Size([1, 2, 25, 121, 240]) torch.Size([1, 1, 25, 121, 240])\n",
      "torch.Size([1, 2, 25, 121, 240]) torch.Size([1, 1, 25, 121, 240])\n"
     ]
    },
    {
     "name": "stderr",
     "output_type": "stream",
     "text": [
      "104it [00:06, 14.45it/s]"
     ]
    },
    {
     "name": "stdout",
     "output_type": "stream",
     "text": [
      "torch.Size([1, 2, 25, 121, 240]) torch.Size([1, 1, 25, 121, 240])\n",
      "torch.Size([1, 2, 25, 121, 240]) torch.Size([1, 1, 25, 121, 240])\n"
     ]
    },
    {
     "name": "stderr",
     "output_type": "stream",
     "text": [
      "106it [00:07, 14.37it/s]"
     ]
    },
    {
     "name": "stdout",
     "output_type": "stream",
     "text": [
      "torch.Size([1, 2, 25, 121, 240]) torch.Size([1, 1, 25, 121, 240])\n"
     ]
    },
    {
     "name": "stderr",
     "output_type": "stream",
     "text": [
      "107it [00:07, 14.98it/s]"
     ]
    },
    {
     "name": "stdout",
     "output_type": "stream",
     "text": [
      "torch.Size([1, 2, 25, 121, 240]) torch.Size([1, 1, 25, 121, 240])\n"
     ]
    },
    {
     "name": "stderr",
     "output_type": "stream",
     "text": [
      "\n"
     ]
    },
    {
     "ename": "KeyboardInterrupt",
     "evalue": "",
     "output_type": "error",
     "traceback": [
      "\u001B[0;31m---------------------------------------------------------------------------\u001B[0m",
      "\u001B[0;31mKeyboardInterrupt\u001B[0m                         Traceback (most recent call last)",
      "Cell \u001B[0;32mIn[91], line 10\u001B[0m\n\u001B[1;32m      1\u001B[0m \u001B[38;5;66;03m# loader_params = {\u001B[39;00m\n\u001B[1;32m      2\u001B[0m \u001B[38;5;66;03m#     'batch_size': None,\u001B[39;00m\n\u001B[1;32m      3\u001B[0m \u001B[38;5;66;03m#     'batch_sampler': None,\u001B[39;00m\n\u001B[0;32m   (...)\u001B[0m\n\u001B[1;32m      7\u001B[0m \u001B[38;5;66;03m# }\u001B[39;00m\n\u001B[1;32m      8\u001B[0m \u001B[38;5;66;03m# dl = DataLoader(train_ds, **loader_params, sampler=None)\u001B[39;00m\n\u001B[0;32m---> 10\u001B[0m \u001B[38;5;28;43;01mfor\u001B[39;49;00m\u001B[43m \u001B[49m\u001B[43mitem\u001B[49m\u001B[43m \u001B[49m\u001B[38;5;129;43;01min\u001B[39;49;00m\u001B[43m \u001B[49m\u001B[43mtqdm\u001B[49m\u001B[43m(\u001B[49m\u001B[38;5;28;43miter\u001B[39;49m\u001B[43m(\u001B[49m\u001B[43mtrain_ds\u001B[49m\u001B[43m)\u001B[49m\u001B[43m)\u001B[49m\u001B[43m:\u001B[49m\n\u001B[1;32m     11\u001B[0m \u001B[43m    \u001B[49m\u001B[38;5;28;43mprint\u001B[39;49m\u001B[43m(\u001B[49m\u001B[43mitem\u001B[49m\u001B[43m[\u001B[49m\u001B[38;5;241;43m0\u001B[39;49m\u001B[43m]\u001B[49m\u001B[38;5;241;43m.\u001B[39;49m\u001B[43mshape\u001B[49m\u001B[43m,\u001B[49m\u001B[43m \u001B[49m\u001B[43mitem\u001B[49m\u001B[43m[\u001B[49m\u001B[38;5;241;43m1\u001B[39;49m\u001B[43m]\u001B[49m\u001B[38;5;241;43m.\u001B[39;49m\u001B[43mshape\u001B[49m\u001B[43m)\u001B[49m\n",
      "File \u001B[0;32m/Library/Frameworks/Python.framework/Versions/3.11/lib/python3.11/site-packages/tqdm/std.py:1181\u001B[0m, in \u001B[0;36mtqdm.__iter__\u001B[0;34m(self)\u001B[0m\n\u001B[1;32m   1178\u001B[0m time \u001B[38;5;241m=\u001B[39m \u001B[38;5;28mself\u001B[39m\u001B[38;5;241m.\u001B[39m_time\n\u001B[1;32m   1180\u001B[0m \u001B[38;5;28;01mtry\u001B[39;00m:\n\u001B[0;32m-> 1181\u001B[0m \u001B[43m    \u001B[49m\u001B[38;5;28;43;01mfor\u001B[39;49;00m\u001B[43m \u001B[49m\u001B[43mobj\u001B[49m\u001B[43m \u001B[49m\u001B[38;5;129;43;01min\u001B[39;49;00m\u001B[43m \u001B[49m\u001B[43miterable\u001B[49m\u001B[43m:\u001B[49m\n\u001B[1;32m   1182\u001B[0m \u001B[43m        \u001B[49m\u001B[38;5;28;43;01myield\u001B[39;49;00m\u001B[43m \u001B[49m\u001B[43mobj\u001B[49m\n\u001B[1;32m   1183\u001B[0m \u001B[43m        \u001B[49m\u001B[38;5;66;43;03m# Update and possibly print the progressbar.\u001B[39;49;00m\n\u001B[1;32m   1184\u001B[0m \u001B[43m        \u001B[49m\u001B[38;5;66;43;03m# Note: does not call self.update(1) for speed optimisation.\u001B[39;49;00m\n",
      "File \u001B[0;32m~/git/DL4WeatherAndClimate/src/era5_dataset.py:75\u001B[0m, in \u001B[0;36mERA5Dataset.__iter__\u001B[0;34m(self)\u001B[0m\n\u001B[1;32m     72\u001B[0m idx_t \u001B[38;5;241m=\u001B[39m \u001B[38;5;28mself\u001B[39m\u001B[38;5;241m.\u001B[39midxs[bidx: bidx \u001B[38;5;241m+\u001B[39m \u001B[38;5;28mself\u001B[39m\u001B[38;5;241m.\u001B[39mbatch_size]\n\u001B[1;32m     74\u001B[0m idxes \u001B[38;5;241m=\u001B[39m [idx_t \u001B[38;5;241m+\u001B[39m i \u001B[38;5;28;01mfor\u001B[39;00m i \u001B[38;5;129;01min\u001B[39;00m \u001B[38;5;28mrange\u001B[39m(\u001B[38;5;28mself\u001B[39m\u001B[38;5;241m.\u001B[39mmax_autoregression_steps)]\n\u001B[0;32m---> 75\u001B[0m sources \u001B[38;5;241m=\u001B[39m \u001B[43m[\u001B[49m\n\u001B[1;32m     76\u001B[0m \u001B[43m    \u001B[49m\u001B[38;5;28;43mself\u001B[39;49m\u001B[38;5;241;43m.\u001B[39;49m\u001B[43mget_at_idx\u001B[49m\u001B[43m(\u001B[49m\u001B[43midx\u001B[49m\u001B[43m)\u001B[49m\u001B[43m \u001B[49m\u001B[38;5;28;43;01mfor\u001B[39;49;00m\u001B[43m \u001B[49m\u001B[43midx\u001B[49m\u001B[43m \u001B[49m\u001B[38;5;129;43;01min\u001B[39;49;00m\u001B[43m \u001B[49m\u001B[43midxes\u001B[49m\n\u001B[1;32m     77\u001B[0m \u001B[43m\u001B[49m\u001B[43m]\u001B[49m\n\u001B[1;32m     78\u001B[0m targets \u001B[38;5;241m=\u001B[39m sources[\u001B[38;5;241m2\u001B[39m:]\n\u001B[1;32m     79\u001B[0m sources \u001B[38;5;241m=\u001B[39m sources[:\u001B[38;5;241m-\u001B[39m\u001B[38;5;241m1\u001B[39m]\n",
      "File \u001B[0;32m~/git/DL4WeatherAndClimate/src/era5_dataset.py:76\u001B[0m, in \u001B[0;36m<listcomp>\u001B[0;34m(.0)\u001B[0m\n\u001B[1;32m     72\u001B[0m idx_t \u001B[38;5;241m=\u001B[39m \u001B[38;5;28mself\u001B[39m\u001B[38;5;241m.\u001B[39midxs[bidx: bidx \u001B[38;5;241m+\u001B[39m \u001B[38;5;28mself\u001B[39m\u001B[38;5;241m.\u001B[39mbatch_size]\n\u001B[1;32m     74\u001B[0m idxes \u001B[38;5;241m=\u001B[39m [idx_t \u001B[38;5;241m+\u001B[39m i \u001B[38;5;28;01mfor\u001B[39;00m i \u001B[38;5;129;01min\u001B[39;00m \u001B[38;5;28mrange\u001B[39m(\u001B[38;5;28mself\u001B[39m\u001B[38;5;241m.\u001B[39mmax_autoregression_steps)]\n\u001B[1;32m     75\u001B[0m sources \u001B[38;5;241m=\u001B[39m [\n\u001B[0;32m---> 76\u001B[0m     \u001B[38;5;28;43mself\u001B[39;49m\u001B[38;5;241;43m.\u001B[39;49m\u001B[43mget_at_idx\u001B[49m\u001B[43m(\u001B[49m\u001B[43midx\u001B[49m\u001B[43m)\u001B[49m \u001B[38;5;28;01mfor\u001B[39;00m idx \u001B[38;5;129;01min\u001B[39;00m idxes\n\u001B[1;32m     77\u001B[0m ]\n\u001B[1;32m     78\u001B[0m targets \u001B[38;5;241m=\u001B[39m sources[\u001B[38;5;241m2\u001B[39m:]\n\u001B[1;32m     79\u001B[0m sources \u001B[38;5;241m=\u001B[39m sources[:\u001B[38;5;241m-\u001B[39m\u001B[38;5;241m1\u001B[39m]\n",
      "File \u001B[0;32m~/git/DL4WeatherAndClimate/src/era5_dataset.py:98\u001B[0m, in \u001B[0;36mERA5Dataset.get_at_idx\u001B[0;34m(self, idx_t)\u001B[0m\n\u001B[1;32m     93\u001B[0m \u001B[38;5;28;01mdef\u001B[39;00m \u001B[38;5;21mget_at_idx\u001B[39m(\u001B[38;5;28mself\u001B[39m, idx_t):\n\u001B[1;32m     94\u001B[0m     \u001B[38;5;28;01mreturn\u001B[39;00m torch\u001B[38;5;241m.\u001B[39mstack(\n\u001B[1;32m     95\u001B[0m         [\n\u001B[1;32m     96\u001B[0m             torch\u001B[38;5;241m.\u001B[39mtensor(\u001B[38;5;28mself\u001B[39m\u001B[38;5;241m.\u001B[39msources[\u001B[38;5;124m\"\u001B[39m\u001B[38;5;124mt\u001B[39m\u001B[38;5;124m\"\u001B[39m][idx_t]),\n\u001B[1;32m     97\u001B[0m             torch\u001B[38;5;241m.\u001B[39mtensor(\u001B[38;5;28mself\u001B[39m\u001B[38;5;241m.\u001B[39msources[\u001B[38;5;124m\"\u001B[39m\u001B[38;5;124mq\u001B[39m\u001B[38;5;124m\"\u001B[39m][idx_t]),\n\u001B[0;32m---> 98\u001B[0m             torch\u001B[38;5;241m.\u001B[39mtensor(\u001B[38;5;28;43mself\u001B[39;49m\u001B[38;5;241;43m.\u001B[39;49m\u001B[43msources\u001B[49m\u001B[43m[\u001B[49m\u001B[38;5;124;43m\"\u001B[39;49m\u001B[38;5;124;43mu\u001B[39;49m\u001B[38;5;124;43m\"\u001B[39;49m\u001B[43m]\u001B[49m\u001B[43m[\u001B[49m\u001B[43midx_t\u001B[49m\u001B[43m]\u001B[49m),\n\u001B[1;32m     99\u001B[0m             torch\u001B[38;5;241m.\u001B[39mtensor(\u001B[38;5;28mself\u001B[39m\u001B[38;5;241m.\u001B[39msources[\u001B[38;5;124m\"\u001B[39m\u001B[38;5;124mv\u001B[39m\u001B[38;5;124m\"\u001B[39m][idx_t]),\n\u001B[1;32m    100\u001B[0m             torch\u001B[38;5;241m.\u001B[39mtensor(\u001B[38;5;28mself\u001B[39m\u001B[38;5;241m.\u001B[39msources[\u001B[38;5;124m\"\u001B[39m\u001B[38;5;124mz\u001B[39m\u001B[38;5;124m\"\u001B[39m][idx_t]),\n\u001B[1;32m    101\u001B[0m         ],\n\u001B[1;32m    102\u001B[0m         \u001B[38;5;241m1\u001B[39m,\n\u001B[1;32m    103\u001B[0m     )\n",
      "File \u001B[0;32m/Library/Frameworks/Python.framework/Versions/3.11/lib/python3.11/site-packages/zarr/core.py:794\u001B[0m, in \u001B[0;36mArray.__getitem__\u001B[0;34m(self, selection)\u001B[0m\n\u001B[1;32m    792\u001B[0m     result \u001B[38;5;241m=\u001B[39m \u001B[38;5;28mself\u001B[39m\u001B[38;5;241m.\u001B[39mvindex[selection]\n\u001B[1;32m    793\u001B[0m \u001B[38;5;28;01melif\u001B[39;00m is_pure_orthogonal_indexing(pure_selection, \u001B[38;5;28mself\u001B[39m\u001B[38;5;241m.\u001B[39mndim):\n\u001B[0;32m--> 794\u001B[0m     result \u001B[38;5;241m=\u001B[39m \u001B[38;5;28;43mself\u001B[39;49m\u001B[38;5;241;43m.\u001B[39;49m\u001B[43mget_orthogonal_selection\u001B[49m\u001B[43m(\u001B[49m\u001B[43mpure_selection\u001B[49m\u001B[43m,\u001B[49m\u001B[43m \u001B[49m\u001B[43mfields\u001B[49m\u001B[38;5;241;43m=\u001B[39;49m\u001B[43mfields\u001B[49m\u001B[43m)\u001B[49m\n\u001B[1;32m    795\u001B[0m \u001B[38;5;28;01melse\u001B[39;00m:\n\u001B[1;32m    796\u001B[0m     result \u001B[38;5;241m=\u001B[39m \u001B[38;5;28mself\u001B[39m\u001B[38;5;241m.\u001B[39mget_basic_selection(pure_selection, fields\u001B[38;5;241m=\u001B[39mfields)\n",
      "File \u001B[0;32m/Library/Frameworks/Python.framework/Versions/3.11/lib/python3.11/site-packages/zarr/core.py:1076\u001B[0m, in \u001B[0;36mArray.get_orthogonal_selection\u001B[0;34m(self, selection, out, fields)\u001B[0m\n\u001B[1;32m   1073\u001B[0m \u001B[38;5;66;03m# setup indexer\u001B[39;00m\n\u001B[1;32m   1074\u001B[0m indexer \u001B[38;5;241m=\u001B[39m OrthogonalIndexer(selection, \u001B[38;5;28mself\u001B[39m)\n\u001B[0;32m-> 1076\u001B[0m \u001B[38;5;28;01mreturn\u001B[39;00m \u001B[38;5;28;43mself\u001B[39;49m\u001B[38;5;241;43m.\u001B[39;49m\u001B[43m_get_selection\u001B[49m\u001B[43m(\u001B[49m\u001B[43mindexer\u001B[49m\u001B[38;5;241;43m=\u001B[39;49m\u001B[43mindexer\u001B[49m\u001B[43m,\u001B[49m\u001B[43m \u001B[49m\u001B[43mout\u001B[49m\u001B[38;5;241;43m=\u001B[39;49m\u001B[43mout\u001B[49m\u001B[43m,\u001B[49m\u001B[43m \u001B[49m\u001B[43mfields\u001B[49m\u001B[38;5;241;43m=\u001B[39;49m\u001B[43mfields\u001B[49m\u001B[43m)\u001B[49m\n",
      "File \u001B[0;32m/Library/Frameworks/Python.framework/Versions/3.11/lib/python3.11/site-packages/zarr/core.py:1339\u001B[0m, in \u001B[0;36mArray._get_selection\u001B[0;34m(self, indexer, out, fields)\u001B[0m\n\u001B[1;32m   1336\u001B[0m \u001B[38;5;28;01mif\u001B[39;00m math\u001B[38;5;241m.\u001B[39mprod(out_shape) \u001B[38;5;241m>\u001B[39m \u001B[38;5;241m0\u001B[39m:\n\u001B[1;32m   1337\u001B[0m     \u001B[38;5;66;03m# allow storage to get multiple items at once\u001B[39;00m\n\u001B[1;32m   1338\u001B[0m     lchunk_coords, lchunk_selection, lout_selection \u001B[38;5;241m=\u001B[39m \u001B[38;5;28mzip\u001B[39m(\u001B[38;5;241m*\u001B[39mindexer)\n\u001B[0;32m-> 1339\u001B[0m     \u001B[38;5;28;43mself\u001B[39;49m\u001B[38;5;241;43m.\u001B[39;49m\u001B[43m_chunk_getitems\u001B[49m\u001B[43m(\u001B[49m\n\u001B[1;32m   1340\u001B[0m \u001B[43m        \u001B[49m\u001B[43mlchunk_coords\u001B[49m\u001B[43m,\u001B[49m\n\u001B[1;32m   1341\u001B[0m \u001B[43m        \u001B[49m\u001B[43mlchunk_selection\u001B[49m\u001B[43m,\u001B[49m\n\u001B[1;32m   1342\u001B[0m \u001B[43m        \u001B[49m\u001B[43mout\u001B[49m\u001B[43m,\u001B[49m\n\u001B[1;32m   1343\u001B[0m \u001B[43m        \u001B[49m\u001B[43mlout_selection\u001B[49m\u001B[43m,\u001B[49m\n\u001B[1;32m   1344\u001B[0m \u001B[43m        \u001B[49m\u001B[43mdrop_axes\u001B[49m\u001B[38;5;241;43m=\u001B[39;49m\u001B[43mindexer\u001B[49m\u001B[38;5;241;43m.\u001B[39;49m\u001B[43mdrop_axes\u001B[49m\u001B[43m,\u001B[49m\n\u001B[1;32m   1345\u001B[0m \u001B[43m        \u001B[49m\u001B[43mfields\u001B[49m\u001B[38;5;241;43m=\u001B[39;49m\u001B[43mfields\u001B[49m\u001B[43m,\u001B[49m\n\u001B[1;32m   1346\u001B[0m \u001B[43m    \u001B[49m\u001B[43m)\u001B[49m\n\u001B[1;32m   1347\u001B[0m \u001B[38;5;28;01mif\u001B[39;00m out\u001B[38;5;241m.\u001B[39mshape:\n\u001B[1;32m   1348\u001B[0m     \u001B[38;5;28;01mreturn\u001B[39;00m out\n",
      "File \u001B[0;32m/Library/Frameworks/Python.framework/Versions/3.11/lib/python3.11/site-packages/zarr/core.py:2177\u001B[0m, in \u001B[0;36mArray._chunk_getitems\u001B[0;34m(self, lchunk_coords, lchunk_selection, out, lout_selection, drop_axes, fields)\u001B[0m\n\u001B[1;32m   2175\u001B[0m \u001B[38;5;28;01mfor\u001B[39;00m ckey, chunk_select, out_select \u001B[38;5;129;01min\u001B[39;00m \u001B[38;5;28mzip\u001B[39m(ckeys, lchunk_selection, lout_selection):\n\u001B[1;32m   2176\u001B[0m     \u001B[38;5;28;01mif\u001B[39;00m ckey \u001B[38;5;129;01min\u001B[39;00m cdatas:\n\u001B[0;32m-> 2177\u001B[0m         \u001B[38;5;28;43mself\u001B[39;49m\u001B[38;5;241;43m.\u001B[39;49m\u001B[43m_process_chunk\u001B[49m\u001B[43m(\u001B[49m\n\u001B[1;32m   2178\u001B[0m \u001B[43m            \u001B[49m\u001B[43mout\u001B[49m\u001B[43m,\u001B[49m\n\u001B[1;32m   2179\u001B[0m \u001B[43m            \u001B[49m\u001B[43mcdatas\u001B[49m\u001B[43m[\u001B[49m\u001B[43mckey\u001B[49m\u001B[43m]\u001B[49m\u001B[43m,\u001B[49m\n\u001B[1;32m   2180\u001B[0m \u001B[43m            \u001B[49m\u001B[43mchunk_select\u001B[49m\u001B[43m,\u001B[49m\n\u001B[1;32m   2181\u001B[0m \u001B[43m            \u001B[49m\u001B[43mdrop_axes\u001B[49m\u001B[43m,\u001B[49m\n\u001B[1;32m   2182\u001B[0m \u001B[43m            \u001B[49m\u001B[43mout_is_ndarray\u001B[49m\u001B[43m,\u001B[49m\n\u001B[1;32m   2183\u001B[0m \u001B[43m            \u001B[49m\u001B[43mfields\u001B[49m\u001B[43m,\u001B[49m\n\u001B[1;32m   2184\u001B[0m \u001B[43m            \u001B[49m\u001B[43mout_select\u001B[49m\u001B[43m,\u001B[49m\n\u001B[1;32m   2185\u001B[0m \u001B[43m            \u001B[49m\u001B[43mpartial_read_decode\u001B[49m\u001B[38;5;241;43m=\u001B[39;49m\u001B[43mpartial_read_decode\u001B[49m\u001B[43m,\u001B[49m\n\u001B[1;32m   2186\u001B[0m \u001B[43m        \u001B[49m\u001B[43m)\u001B[49m\n\u001B[1;32m   2187\u001B[0m     \u001B[38;5;28;01melse\u001B[39;00m:\n\u001B[1;32m   2188\u001B[0m         \u001B[38;5;66;03m# check exception type\u001B[39;00m\n\u001B[1;32m   2189\u001B[0m         \u001B[38;5;28;01mif\u001B[39;00m \u001B[38;5;28mself\u001B[39m\u001B[38;5;241m.\u001B[39m_fill_value \u001B[38;5;129;01mis\u001B[39;00m \u001B[38;5;129;01mnot\u001B[39;00m \u001B[38;5;28;01mNone\u001B[39;00m:\n",
      "File \u001B[0;32m/Library/Frameworks/Python.framework/Versions/3.11/lib/python3.11/site-packages/zarr/core.py:2090\u001B[0m, in \u001B[0;36mArray._process_chunk\u001B[0;34m(self, out, cdata, chunk_selection, drop_axes, out_is_ndarray, fields, out_selection, partial_read_decode)\u001B[0m\n\u001B[1;32m   2088\u001B[0m \u001B[38;5;28;01mexcept\u001B[39;00m ArrayIndexError:\n\u001B[1;32m   2089\u001B[0m     cdata \u001B[38;5;241m=\u001B[39m cdata\u001B[38;5;241m.\u001B[39mread_full()\n\u001B[0;32m-> 2090\u001B[0m chunk \u001B[38;5;241m=\u001B[39m \u001B[38;5;28;43mself\u001B[39;49m\u001B[38;5;241;43m.\u001B[39;49m\u001B[43m_decode_chunk\u001B[49m\u001B[43m(\u001B[49m\u001B[43mcdata\u001B[49m\u001B[43m)\u001B[49m\n\u001B[1;32m   2092\u001B[0m \u001B[38;5;66;03m# select data from chunk\u001B[39;00m\n\u001B[1;32m   2093\u001B[0m \u001B[38;5;28;01mif\u001B[39;00m fields:\n",
      "File \u001B[0;32m/Library/Frameworks/Python.framework/Versions/3.11/lib/python3.11/site-packages/zarr/core.py:2346\u001B[0m, in \u001B[0;36mArray._decode_chunk\u001B[0;34m(self, cdata, start, nitems, expected_shape)\u001B[0m\n\u001B[1;32m   2344\u001B[0m         chunk \u001B[38;5;241m=\u001B[39m \u001B[38;5;28mself\u001B[39m\u001B[38;5;241m.\u001B[39m_compressor\u001B[38;5;241m.\u001B[39mdecode_partial(cdata, start, nitems)\n\u001B[1;32m   2345\u001B[0m     \u001B[38;5;28;01melse\u001B[39;00m:\n\u001B[0;32m-> 2346\u001B[0m         chunk \u001B[38;5;241m=\u001B[39m \u001B[38;5;28;43mself\u001B[39;49m\u001B[38;5;241;43m.\u001B[39;49m\u001B[43m_compressor\u001B[49m\u001B[38;5;241;43m.\u001B[39;49m\u001B[43mdecode\u001B[49m\u001B[43m(\u001B[49m\u001B[43mcdata\u001B[49m\u001B[43m)\u001B[49m\n\u001B[1;32m   2347\u001B[0m \u001B[38;5;28;01melse\u001B[39;00m:\n\u001B[1;32m   2348\u001B[0m     chunk \u001B[38;5;241m=\u001B[39m cdata\n",
      "\u001B[0;31mKeyboardInterrupt\u001B[0m: "
     ]
    }
   ],
   "source": [
    "# loader_params = {\n",
    "#     'batch_size': None,\n",
    "#     'batch_sampler': None,\n",
    "#     'shuffle': False,\n",
    "#     'num_workers': 1,\n",
    "#     'pin_memory': True\n",
    "# }\n",
    "# dl = DataLoader(train_ds, **loader_params, sampler=None)\n",
    "\n",
    "for item in tqdm(iter(train_ds)):\n",
    "    print(item[0].shape, item[1].shape)"
   ],
   "metadata": {
    "collapsed": false,
    "ExecuteTime": {
     "end_time": "2024-04-06T11:20:59.707734Z",
     "start_time": "2024-04-06T11:20:52.518118Z"
    }
   },
   "id": "2fe8ff6b26d995a6",
   "execution_count": 91
  },
  {
   "cell_type": "code",
   "outputs": [],
   "source": [],
   "metadata": {
    "collapsed": false,
    "ExecuteTime": {
     "end_time": "2024-04-06T11:20:59.708162Z",
     "start_time": "2024-04-06T11:20:59.707991Z"
    }
   },
   "id": "f8db4c19e1775668",
   "execution_count": null
  }
 ],
 "metadata": {
  "kernelspec": {
   "display_name": "Python 3",
   "language": "python",
   "name": "python3"
  },
  "language_info": {
   "codemirror_mode": {
    "name": "ipython",
    "version": 2
   },
   "file_extension": ".py",
   "mimetype": "text/x-python",
   "name": "python",
   "nbconvert_exporter": "python",
   "pygments_lexer": "ipython2",
   "version": "2.7.6"
  }
 },
 "nbformat": 4,
 "nbformat_minor": 5
}
