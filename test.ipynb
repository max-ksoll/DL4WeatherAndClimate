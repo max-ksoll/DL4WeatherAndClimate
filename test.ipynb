{
 "cells": [
  {
   "cell_type": "code",
   "execution_count": 46,
   "id": "initial_id",
   "metadata": {
    "collapsed": true,
    "ExecuteTime": {
     "end_time": "2024-04-05T12:28:57.921694Z",
     "start_time": "2024-04-05T12:28:57.911681Z"
    }
   },
   "outputs": [],
   "source": [
    "import torch"
   ]
  },
  {
   "cell_type": "code",
   "execution_count": 47,
   "outputs": [],
   "source": [
    "import torch\n",
    "import torch.nn as nn\n",
    "\n",
    "class SpaceTimeCubeEmbedding(nn.Module):\n",
    "    def __init__(self, in_channels, out_channels):\n",
    "        super(SpaceTimeCubeEmbedding, self).__init__()\n",
    "        # 3D Convolution layer with kernel size and stride of (2, 4, 4)\n",
    "        # This will reduce the temporal dimension by a factor of 2 and spatial dimensions by a factor of 4\n",
    "        self.conv3d = nn.Conv3d(in_channels, out_channels, kernel_size=(2, 4, 4), stride=(2, 4, 4))\n",
    "        # Layer Normalization\n",
    "        self.layer_norm = nn.LayerNorm(out_channels)\n",
    "\n",
    "    def forward(self, x):\n",
    "        # Applying 3D convolution\n",
    "        x = self.conv3d(x)\n",
    "        # Permuting the dimensions to apply LayerNorm correctly\n",
    "        x_permuted = x.permute(1, 2, 3 ,0)  # Move the channel dimension to the end for LayerNorm\n",
    "        # Applying layer normalization\n",
    "        x_normalized = self.layer_norm(x_permuted)\n",
    "        # Permuting back to the original dimension order\n",
    "        x_out = x_normalized.permute(3, 0, 1, 2)\n",
    "        return x_out\n",
    "\n",
    "# Example usage\n",
    "# Assuming the input tensor has dimensions [batch_size, in_channels, T, H, W]\n",
    "# For example, an input shape might be [batch_size, 3, 360, 720, 1440] for RGB video data\n",
    "# The output shape would be [batch_size, C, 180, 360, 720] assuming C is the number of output channels specified\n",
    "\n",
    "# Example initialization\n",
    "# in_channels = 3 (e.g., RGB channels)\n",
    "# out_channels = C (desired number of output channels)\n",
    "model = SpaceTimeCubeEmbedding(in_channels=2, out_channels=128)\n"
   ],
   "metadata": {
    "collapsed": false,
    "ExecuteTime": {
     "end_time": "2024-04-05T12:28:57.921936Z",
     "start_time": "2024-04-05T12:28:57.918140Z"
    }
   },
   "id": "4aa6a2cd20f88fd2"
  },
  {
   "cell_type": "code",
   "execution_count": 50,
   "outputs": [
    {
     "data": {
      "text/plain": "torch.Size([128, 35, 180, 360])"
     },
     "execution_count": 50,
     "metadata": {},
     "output_type": "execute_result"
    }
   ],
   "source": [
    "random_tensor = torch.randn(2, 70, 721, 1440)\n",
    "x = model.forward(random_tensor)\n",
    "x.shape\n"
   ],
   "metadata": {
    "collapsed": false,
    "ExecuteTime": {
     "end_time": "2024-04-05T12:29:41.515871Z",
     "start_time": "2024-04-05T12:29:39.045311Z"
    }
   },
   "id": "57d4f1b51675244e"
  },
  {
   "cell_type": "code",
   "execution_count": 48,
   "outputs": [],
   "source": [],
   "metadata": {
    "collapsed": false,
    "ExecuteTime": {
     "end_time": "2024-04-05T12:29:00.366502Z",
     "start_time": "2024-04-05T12:29:00.363849Z"
    }
   },
   "id": "6dab200984dc1cb2"
  }
 ],
 "metadata": {
  "kernelspec": {
   "display_name": "Python 3",
   "language": "python",
   "name": "python3"
  },
  "language_info": {
   "codemirror_mode": {
    "name": "ipython",
    "version": 2
   },
   "file_extension": ".py",
   "mimetype": "text/x-python",
   "name": "python",
   "nbconvert_exporter": "python",
   "pygments_lexer": "ipython2",
   "version": "2.7.6"
  }
 },
 "nbformat": 4,
 "nbformat_minor": 5
}
